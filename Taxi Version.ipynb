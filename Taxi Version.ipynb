{
 "cells": [
  {
   "cell_type": "markdown",
   "id": "495489bb",
   "metadata": {},
   "source": [
    "# Import library, create environment and quick review on the numbers info"
   ]
  },
  {
   "cell_type": "code",
   "execution_count": 19,
   "metadata": {},
   "outputs": [
    {
     "name": "stdout",
     "output_type": "stream",
     "text": [
      "+---------+\n",
      "|R: | :\u001b[43m \u001b[0m:\u001b[34;1mG\u001b[0m|\n",
      "| : | : : |\n",
      "| : : : : |\n",
      "| | : | : |\n",
      "|\u001b[35mY\u001b[0m| : |B: |\n",
      "+---------+\n",
      "\n"
     ]
    }
   ],
   "source": [
    "#import gym library\n",
    "import gym\n",
    "#Import numpy library for data processing\n",
    "import numpy as np\n",
    "#Other libraries for display/random/timing purpose\n",
    "from IPython.display import clear_output\n",
    "from time import sleep\n",
    "import random\n",
    "from IPython.display import clear_output\n",
    "#Plotting library\n",
    "import matplotlib.pyplot as plt\n",
    "from matplotlib.pyplot import figure\n",
    "\n",
    "#Implement the taxi environment\n",
    "env = gym.make(\"Taxi-v3\").env\n",
    "\n",
    "env.reset()\n",
    "env.render()"
   ]
  },
  {
   "cell_type": "code",
   "execution_count": 20,
   "metadata": {},
   "outputs": [
    {
     "name": "stdout",
     "output_type": "stream",
     "text": [
      "+---------+\n",
      "|\u001b[34;1mR\u001b[0m: | : :\u001b[35mG\u001b[0m|\n",
      "| : | : : |\n",
      "| : : : : |\n",
      "| |\u001b[43m \u001b[0m: | : |\n",
      "|Y| : |B: |\n",
      "+---------+\n",
      "\n",
      "Action Space Discrete(6)\n",
      "State Space Discrete(500)\n"
     ]
    }
   ],
   "source": [
    "env.reset() # reset environment to a new, random state\n",
    "env.render()\n",
    "\n",
    "#Quick review on action spaces number and state space number of the environment\n",
    "print(\"Action Space {}\".format(env.action_space))\n",
    "print(\"State Space {}\".format(env.observation_space))"
   ]
  },
  {
   "cell_type": "markdown",
   "id": "24ff82ff",
   "metadata": {},
   "source": [
    "# Initialize environment, review state 328 for the solution later and render"
   ]
  },
  {
   "cell_type": "code",
   "execution_count": 21,
   "metadata": {},
   "outputs": [
    {
     "name": "stdout",
     "output_type": "stream",
     "text": [
      "State: 328\n",
      "+---------+\n",
      "|\u001b[34;1mR\u001b[0m: | : :\u001b[35mG\u001b[0m|\n",
      "| : | : : |\n",
      "| : : : : |\n",
      "| |\u001b[43m \u001b[0m: | : |\n",
      "|Y| : |B: |\n",
      "+---------+\n",
      "\n"
     ]
    }
   ],
   "source": [
    "#Initial the state with the same as instruction (taxi column 3, taxi row 1, passenger location index 0, destination index 2)\n",
    "state = env.encode(3, 1, 2, 0) # (taxi row, taxi column, passenger index, destination index)\n",
    "print(\"State:\", state)\n",
    "\n",
    "#Set the state = 328 follow the instruction to start with, then render out the visualization\n",
    "env.s = state\n",
    "env.render()"
   ]
  },
  {
   "cell_type": "markdown",
   "id": "5b9bf4eb",
   "metadata": {},
   "source": [
    "# Investigate the sample of reward table for state 328 for every it's next move (for solution use below)"
   ]
  },
  {
   "cell_type": "code",
   "execution_count": 22,
   "metadata": {},
   "outputs": [
    {
     "data": {
      "text/plain": [
       "{0: [(1.0, 428, -1, False)],\n",
       " 1: [(1.0, 228, -1, False)],\n",
       " 2: [(1.0, 348, -1, False)],\n",
       " 3: [(1.0, 328, -1, False)],\n",
       " 4: [(1.0, 328, -10, False)],\n",
       " 5: [(1.0, 328, -10, False)]}"
      ]
     },
     "execution_count": 22,
     "metadata": {},
     "output_type": "execute_result"
    }
   ],
   "source": [
    "#View the reward table for state 328 with corresponding move (0->6), each row has an order of \n",
    "#[(probability that making the move),(next state),(reward for the move),(is the training done yet ?)]\n",
    "env.P[328]"
   ]
  },
  {
   "cell_type": "code",
   "execution_count": 29,
   "metadata": {},
   "outputs": [
    {
     "name": "stdout",
     "output_type": "stream",
     "text": [
      "Timesteps taken: 39\n",
      "Penalties incurred: 13\n"
     ]
    }
   ],
   "source": [
    "env.s = 328  # set environment to illustration's state\n",
    "\n",
    "epochs = 0\n",
    "penalties, reward = 0, 0\n",
    "\n",
    "frames = [] # for animation\n",
    "\n",
    "done = False\n",
    "\n",
    "while not done:\n",
    "    #Take a random action to perform from 6 defauld actions using action_space.sample()\n",
    "    #then update the state, reward, done boolean and info variable\n",
    "    action = env.action_space.sample()\n",
    "    state, reward, done, info = env.step(action)\n",
    "\n",
    "    #Increase penalty for wrong pickup/dropoff action (Which has reward = -10)\n",
    "    if reward == -10:\n",
    "        penalties += 1\n",
    "    \n",
    "    # Put each rendered frame into dict for animation\n",
    "    frames.append({\n",
    "        'frame': env.render(mode='ansi'),\n",
    "        'state': state,\n",
    "        'action': action,\n",
    "        'reward': reward\n",
    "        }\n",
    "    )\n",
    "    epochs += 1\n",
    "    \n",
    "##Output of average step and penalty of 100 solving time\n",
    "print(\"Timesteps taken: {}\".format(epochs))\n",
    "print(\"Penalties incurred: {}\".format(penalties))"
   ]
  },
  {
   "cell_type": "code",
   "execution_count": 30,
   "metadata": {},
   "outputs": [
    {
     "name": "stdout",
     "output_type": "stream",
     "text": [
      "+---------+\n",
      "|R: | : :\u001b[35m\u001b[34;1m\u001b[43mG\u001b[0m\u001b[0m\u001b[0m|\n",
      "| : | : : |\n",
      "| : : : : |\n",
      "| | : | : |\n",
      "|Y| : |B: |\n",
      "+---------+\n",
      "  (Dropoff)\n",
      "\n",
      "Timestep: 39\n",
      "State: 85\n",
      "Action: 5\n",
      "Reward: 20\n"
     ]
    }
   ],
   "source": [
    "def print_frames(frames):\n",
    "    for i, frame in enumerate(frames):\n",
    "        clear_output(wait=True)\n",
    "        print(frame['frame'])\n",
    "        print(f\"Timestep: {i + 1}\")\n",
    "        print(f\"State: {frame['state']}\")\n",
    "        print(f\"Action: {frame['action']}\")\n",
    "        print(f\"Reward: {frame['reward']}\")\n",
    "        sleep(.1)\n",
    "        \n",
    "print_frames(frames)"
   ]
  },
  {
   "cell_type": "markdown",
   "id": "18da4e15",
   "metadata": {},
   "source": [
    "# Non-reinforcement method to solve the car park problem (random policy)"
   ]
  },
  {
   "cell_type": "code",
   "execution_count": 31,
   "metadata": {},
   "outputs": [
    {
     "name": "stdout",
     "output_type": "stream",
     "text": [
      "Average (100 episodes) steps make to solve the problem : 859.68\n",
      "Average (100 episodes) penalties (number of incorrect pickup/dropoff): 277.24\n"
     ]
    }
   ],
   "source": [
    "#Create a 100 times loop of 100 episodes of solving to calculate average total step was made and average penalties \n",
    "#to solve the taxi problem\n",
    "\n",
    "loop_total =[]       #array to store loop number to solve the problem for each iteration of episode\n",
    "pen_total = []       #array to store penalty time after the problem for each iteration of episode\n",
    "rand_episode_reward_list = [] #array to store reward\n",
    "episode_reward = 0 #variable store reward\n",
    "\n",
    "for i in range(0,100):\n",
    "    #Initialize loop number (step make) to solve the problem for each time\n",
    "    loop_numb = 0\n",
    "    \n",
    "    #Initialize penalty - reward variable = 0 and done boolean = False\n",
    "    rw = 0\n",
    "    pen = 0\n",
    "    done = False\n",
    "\n",
    "    #Set initialize state of the environment is 328\n",
    "    state_numb = 328\n",
    "    env.s = state_numb\n",
    "    #While loop with end condition : the problem is solve (done == True) for 1 episode\n",
    "    while (done != True):\n",
    "        #Increase a loop counter\n",
    "        loop_numb += 1\n",
    "\n",
    "        #Take a random action to perform from 6 defauld actions using action_space.sample()\n",
    "        #then update the state, reward, done boolean and info variable\n",
    "        action = env.action_space.sample()\n",
    "        state, rw, done, info = env.step(action)\n",
    "\n",
    "        episode_reward = episode_reward + reward\n",
    "\n",
    "        #Increase penalty for wrong pickup/dropoff action (Which has reward = -10)\n",
    "        if rw == -10:\n",
    "            pen += 1\n",
    "\n",
    "        # Collect step frame for later rendering (use if need)\n",
    "        #step_frame.append({'frame': env.render(mode='ansi') ,'state': state ,'action': action ,'reward': rw})\n",
    "    \n",
    "    #Update result of this solving to the array\n",
    "    #print(i,loop_numb,pen)\n",
    "    loop_total.append(loop_numb)\n",
    "    pen_total.append(pen)\n",
    "    rand_episode_reward_list.append(episode_reward)\n",
    "    episode_reward = 0\n",
    "\n",
    "#Output of average step and penalty of 100 solving time\n",
    "print(\"Average (100 episodes) steps make to solve the problem :\",sum(loop_total)/100)\n",
    "print(\"Average (100 episodes) penalties (number of incorrect pickup/dropoff):\",sum(pen_total)/100)"
   ]
  },
  {
   "cell_type": "code",
   "execution_count": 32,
   "metadata": {},
   "outputs": [
    {
     "data": {
      "image/png": "[encoded data removed]",
      "text/plain": [
       "<Figure size 432x288 with 1 Axes>"
      ]
     },
     "metadata": {
      "needs_background": "light"
     },
     "output_type": "display_data"
    }
   ],
   "source": [
    "#plot the reward for each episode - random policy\n",
    "plt.plot(rand_episode_reward_list)\n",
    "plt.ylabel('Reward')\n",
    "plt.xlabel('Episode Number')\n",
    "plt.title(\"Reward per Episode for Random Policy\")\n",
    "plt.show()"
   ]
  },
  {
   "cell_type": "markdown",
   "id": "fe85cb3a",
   "metadata": {},
   "source": [
    "# Reinforcement method to solve taxi problem - Q-learning method"
   ]
  },
  {
   "cell_type": "markdown",
   "id": "bc79522e",
   "metadata": {},
   "source": [
    "1. TRAINING THE Q-TABLE FOR THE OPTIMIZATION TO TAKE THE ACTION FOR EVERY STATES"
   ]
  },
  {
   "cell_type": "code",
   "execution_count": 33,
   "id": "62706cc3",
   "metadata": {},
   "outputs": [
    {
     "name": "stdout",
     "output_type": "stream",
     "text": [
      "[[0. 0. 0. 0. 0. 0.]\n",
      " [0. 0. 0. 0. 0. 0.]\n",
      " [0. 0. 0. 0. 0. 0.]\n",
      " ...\n",
      " [0. 0. 0. 0. 0. 0.]\n",
      " [0. 0. 0. 0. 0. 0.]\n",
      " [0. 0. 0. 0. 0. 0.]]\n"
     ]
    }
   ],
   "source": [
    "#Create a table of 0 (which number of row is the state space number (500) \n",
    "#and number of column is action number (6))\n",
    "space_numb = env.observation_space.n    #500\n",
    "action_numb = env.action_space.n        #6\n",
    "Qtable = np.zeros([space_numb,action_numb])\n",
    "print(Qtable)"
   ]
  },
  {
   "cell_type": "code",
   "execution_count": 34,
   "id": "031d5f38",
   "metadata": {},
   "outputs": [
    {
     "name": "stdout",
     "output_type": "stream",
     "text": [
      "[[  0.           0.           0.           0.           0.\n",
      "    0.        ]\n",
      " [ -2.41837066  -2.3639511   -2.41837066  -2.3639511   -2.27325184\n",
      "  -11.36395003]\n",
      " [ -1.870144    -1.45024001  -1.870144    -1.45024     -0.7504\n",
      "  -10.4502396 ]\n",
      " ...\n",
      " [ -1.10534566   0.41599995  -1.06802319  -1.18106719  -5.15539399\n",
      "   -4.64285604]\n",
      " [ -2.14631887  -2.12205447  -2.14378952  -2.12205596  -6.17698632\n",
      "   -5.03112719]\n",
      " [  2.51976796   1.25972579   2.51429259  11.          -1.982824\n",
      "   -2.47020081]]\n",
      "Done.\n",
      "\n"
     ]
    }
   ],
   "source": [
    "#Training step\n",
    "\n",
    "#array store solvespeed for each training episode for visualization of training process\n",
    "solvespeed_array =[] \n",
    "\n",
    "#Initialize 3 hyperparameter alpha, gamma and epsilon following the standard values from instruction\n",
    "alpha = 0.1\n",
    "gamma = 0.6\n",
    "epsilon = 0.1\n",
    "\n",
    "#For loop training, update the Q-table through decent episode number (100000 follow the instruction)\n",
    "for index in range(1,100001):\n",
    "    #Set initialize state of the environment to be random\n",
    "    state = env.reset()\n",
    "    \n",
    "    #Initialize loop number (step make) to solve the problem for each time\n",
    "    loop_numb = 0\n",
    "    \n",
    "    #Initialize penalty - reward variable = 0 and done boolean = False\n",
    "    rw = 0\n",
    "    pen = 0\n",
    "    done = False\n",
    "    \n",
    "    #Solve speed variable to store solve speed of every training episode\n",
    "    solvespeed = 0\n",
    "    #While loop with end condition : the problem is solve (done == True) for 1 episode\n",
    "    while (done != True):\n",
    "        #Increase a loop counter\n",
    "        loop_numb += 1\n",
    "        \n",
    "        #Draw a random action to exloit the computed Q-value\n",
    "        #then update the next state it'll take, reward, done boolean and info variable\n",
    "        if random.uniform(0, 1) < epsilon:\n",
    "            action = env.action_space.sample() # Explore action space\n",
    "        else:\n",
    "            action = np.argmax(Qtable[state]) # Exploit learned values\n",
    "        next_state, rw, done, info = env.step(action) \n",
    "        \n",
    "        #Update new Qvalue for an action in the state space using the given formula\n",
    "        #Q(state,action) ← (1−α)Q(state,action) + α(reward+γmax(a)Q(next state,all actions))\n",
    "        \n",
    "        #Qvalue for the state space and taken action\n",
    "        old_value = Qtable[state, action]  \n",
    "        \n",
    "        #next max qvalue for the state space\n",
    "        next_max = np.max(Qtable[next_state])    \n",
    "        \n",
    "        #update the new Qvalue for the cell in table\n",
    "        new_value = (1 - alpha) * old_value + alpha * (rw + gamma * next_max)    \n",
    "        Qtable[state, action] = new_value\n",
    "        \n",
    "        #Update the solvespeed by 1\n",
    "        solvespeed+=1\n",
    "        #Increase penalty for wrong pickup/dropoff action (Which has reward = -10)\n",
    "        if rw == -10:\n",
    "            pen += 1\n",
    "        #Declare the next state after taking the action from current state\n",
    "        state = next_state\n",
    "    solvespeed_array.append(solvespeed)\n",
    "print(Qtable)\n",
    "print(\"Done.\\n\")"
   ]
  },
  {
   "cell_type": "markdown",
   "id": "3e023453",
   "metadata": {},
   "source": [
    "2. Method effectiveness evaluation by apply trained model to solve taxi problem from random state space"
   ]
  },
  {
   "cell_type": "code",
   "execution_count": 35,
   "id": "8eb33471",
   "metadata": {},
   "outputs": [
    {
     "name": "stdout",
     "output_type": "stream",
     "text": [
      "Results after 100 episodes:\n",
      "Average timesteps per episode:  13.32\n",
      "Average penalties per episode:  0.0\n"
     ]
    }
   ],
   "source": [
    "loop_total =[]       #array to store loop number to solve the problem for each iteration of episode\n",
    "pen_total = []       #array to store penalty time after the problem for each iteration of episode\n",
    "\n",
    "for i in range(0,100):\n",
    "    #Initialize loop number (step make) to solve the problem for each time\n",
    "    loop_numb = 0\n",
    "    \n",
    "    #Initialize penalty - reward variable = 0 and done boolean = False\n",
    "    rw = 0\n",
    "    pen = 0\n",
    "    done = False\n",
    "    \n",
    "    #Create a random state space\n",
    "    state = env.reset()\n",
    "    \n",
    "    while (done != True):\n",
    "        \n",
    "        #Take an action with maximum Q-value to perform using np.argmax(Qtable[state])\n",
    "        #then update the state, reward, done boolean and info variable\n",
    "        action = np.argmax(Qtable[state])\n",
    "        state, rw, done, info = env.step(action)\n",
    "        \n",
    "        #Increase penalty for wrong pickup/dropoff action (Which has reward = -10)\n",
    "        if rw == -10:\n",
    "            pen += 1\n",
    "\n",
    "        loop_numb += 1\n",
    "\n",
    "    #Update result of this solving to the array\n",
    "    #print(i,loop_numb,pen)\n",
    "    loop_total.append(loop_numb)\n",
    "    pen_total.append(pen)\n",
    "    \n",
    "#Output of average step and penalty of 100 solving time\n",
    "print(f\"Results after 100 episodes:\")\n",
    "print(f\"Average timesteps per episode: \", sum(loop_total)/100)\n",
    "print(f\"Average penalties per episode: \",sum(pen_total)/100)\n",
    "    "
   ]
  },
  {
   "cell_type": "markdown",
   "id": "5767b2b1",
   "metadata": {},
   "source": [
    "3. Learning speed visualization"
   ]
  },
  {
   "cell_type": "code",
   "execution_count": 36,
   "id": "3427b496",
   "metadata": {},
   "outputs": [
    {
     "data": {
      "text/plain": [
       "Text(0, 0.5, 'Total step make for solution')"
      ]
     },
     "execution_count": 36,
     "metadata": {},
     "output_type": "execute_result"
    },
    {
     "data": {
      "image/png": "[encoded data removed]",
      "text/plain": [
       "<Figure size 900x600 with 1 Axes>"
      ]
     },
     "metadata": {
      "needs_background": "light"
     },
     "output_type": "display_data"
    }
   ],
   "source": [
    "#Create variable x to store training episodes order for the first 2000 episodes (in 100000 episodes total) in our training\n",
    "x = []\n",
    "for i in range (1,2001):\n",
    "    x.append(i)\n",
    "    \n",
    "#y is the number of step for successful solve Taxi problem for each episode in our first 2000 episode of training (recorded above)\n",
    "y = solvespeed_array[0:2000]\n",
    "\n",
    "#Graph\n",
    "fig, ax = plt.subplots(figsize=(6, 4), dpi=150)\n",
    "ax.plot(x, y)\n",
    "\n",
    "#Name the elements\n",
    "ax.set_title('Q-learning Taxi problem training process', fontsize=15)\n",
    "ax.set_xlabel('Training episode', fontsize=10)\n",
    "ax.set_ylabel('Total step make for solution', fontsize=10)"
   ]
  }
 ],
 "metadata": {
  "interpreter": {
   "hash": "7be2dd5c4580cc14fc4a792dcc9d111d1777ef97f7a9da44f06aa4e194b525db"
  },
  "kernelspec": {
   "display_name": "Python 3.10.4 64-bit",
   "language": "python",
   "name": "python3"
  },
  "language_info": {
   "codemirror_mode": {
    "name": "ipython",
    "version": 3
   },
   "file_extension": ".py",
   "mimetype": "text/x-python",
   "name": "python",
   "nbconvert_exporter": "python",
   "pygments_lexer": "ipython3",
   "version": "3.10.4"
  },
  "orig_nbformat": 4
 },
 "nbformat": 4,
 "nbformat_minor": 2
}
