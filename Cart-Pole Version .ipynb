{
 "cells": [
  {
   "cell_type": "markdown",
   "id": "16793d9c",
   "metadata": {},
   "source": [
    "# Import library, create environment and quick review on the numbers info"
   ]
  },
  {
   "cell_type": "code",
   "execution_count": 15,
   "id": "e454185c",
   "metadata": {},
   "outputs": [
    {
     "name": "stdout",
     "output_type": "stream",
     "text": [
      "Number of action: Discrete(2)\n",
      "Number of state: Box([-4.8000002e+00 -3.4028235e+38 -4.1887903e-01 -3.4028235e+38], [4.8000002e+00 3.4028235e+38 4.1887903e-01 3.4028235e+38], (4,), float32)\n"
     ]
    }
   ],
   "source": [
    "#import gym library\n",
    "import gym\n",
    "#Import numpy and libraries for data processing and calculation\n",
    "import numpy as np\n",
    "import math\n",
    "\n",
    "#Plotting library\n",
    "import matplotlib.pyplot as plt\n",
    "\n",
    "#Kbins for later bin create\n",
    "from sklearn.preprocessing import KBinsDiscretizer\n",
    "\n",
    "#Other library\n",
    "import time\n",
    "import random\n",
    "from typing import Tuple\n",
    "\n",
    "#Implement the cart pole environment\n",
    "env = gym.make('CartPole-v1').env\n",
    "\n",
    "#Quick review on action spaces number and state space number of the Cart pole environment\n",
    "print(\"Number of action:\",env.action_space)\n",
    "print(\"Number of state:\",env.observation_space)"
   ]
  },
  {
   "cell_type": "markdown",
   "id": "00e4d7c7",
   "metadata": {},
   "source": [
    "# a) Random search method"
   ]
  },
  {
   "cell_type": "markdown",
   "id": "316f4a84",
   "metadata": {},
   "source": [
    "1. Function of action decision making based on the vector multiplication result of parameter and observation (< 0: go left, > 0: go right)"
   ]
  },
  {
   "cell_type": "code",
   "execution_count": 16,
   "id": "93227fea",
   "metadata": {},
   "outputs": [],
   "source": [
    "def action_decision(parameter,obs):\n",
    "    if (np.matmul(parameter,obs) < 0):\n",
    "        return 0\n",
    "    else:\n",
    "        return 1"
   ]
  },
  {
   "cell_type": "markdown",
   "id": "178065df",
   "metadata": {},
   "source": [
    "2. Function of making an episode, then return the episode's reward (for each timestep the pole still straight, the reward +=1) to evaluate the episodes performance"
   ]
  },
  {
   "cell_type": "code",
   "execution_count": 17,
   "id": "a307cacb",
   "metadata": {},
   "outputs": [],
   "source": [
    "#Define function that run 1 episode with given timestep\n",
    "def episode_run(env, parameter,timesteps):\n",
    "    #Reset an observation to be random situation\n",
    "    obs = env.reset() \n",
    "    \n",
    "    #Initialize reward\n",
    "    total_rw = 0\n",
    "    \n",
    "    #Loop through 'timestep' iteration of action to check for the performance, break the loop when the pole fall\n",
    "    for i in range(timesteps):\n",
    "        \n",
    "        #Draw the action based on the vector multiplication\n",
    "        action = action_decision(parameter,obs)\n",
    "        #Update the observation, gained reward, done boolean and info after that action\n",
    "        obs, rw, done, info = env.step(action)\n",
    "        #Update total episode's reward after the action\n",
    "        total_rw = total_rw + rw\n",
    "        \n",
    "        #Check if the pole is fallen after the timestep. If yes, break the loop\n",
    "        if (done == True):\n",
    "            break\n",
    "    \n",
    "    return total_rw"
   ]
  },
  {
   "cell_type": "markdown",
   "id": "c9cac4f3",
   "metadata": {},
   "source": [
    "3. Main function of random search - trying random weight to run episode and pick the weight with best performance (highest reward)"
   ]
  },
  {
   "cell_type": "code",
   "execution_count": 18,
   "id": "b9efcf98",
   "metadata": {},
   "outputs": [],
   "source": [
    "def random_search():\n",
    "    #Initialize variable to store best performance reward (from episode) and best parameter\n",
    "    best_para = 0\n",
    "    best_rw = 0\n",
    "\n",
    "    #Loop through numbers of episode with random parameter set (array of 4 observation), looking for the best performance\n",
    "    ep_numb = 1000     #episode number\n",
    "    for i in range(ep_numb):\n",
    "        parameter = np.random.rand(4)*2 - 1\n",
    "        rw = episode_run(env,parameter,timesteps = 200)\n",
    "        #Checking if the epoch is the best performance or not by comparing it's reward to current best reward\n",
    "        if (rw > best_rw):\n",
    "\n",
    "            #If yes, update the new best weight and reward\n",
    "            best_para = parameter\n",
    "            best_rw = rw\n",
    "\n",
    "        #Assume that the problem is solve if the episode can hold the pole for 200 timestep\n",
    "        #When the situation comes, break the loop and consider it is the best given solution\n",
    "        if (rw == 200):            \n",
    "            #Return episode needed for success (break)\n",
    "            return i\n",
    "            break\n",
    "    print(best_para,best_rw)"
   ]
  },
  {
   "cell_type": "markdown",
   "id": "f26064a9",
   "metadata": {},
   "source": [
    "4. Calculate the average episode the method takes to solve the problem (200 timestep of not falling) from 100 times "
   ]
  },
  {
   "cell_type": "code",
   "execution_count": 19,
   "id": "56f128a4",
   "metadata": {},
   "outputs": [
    {
     "name": "stdout",
     "output_type": "stream",
     "text": [
      "Average episode for success for 100 train times: 12.52\n"
     ]
    }
   ],
   "source": [
    "#Array to store all the number of episode the method need to solve the problem for each time of trying (100 tries)\n",
    "episode_needed =[]\n",
    "\n",
    "#Loop through 100 time of random search method\n",
    "for i in range(100):\n",
    "    episode_needed.append(random_search())\n",
    "\n",
    "#Print out the average episode needed for 100 tries of solving problem using random search\n",
    "print(\"Average episode for success for 100 train times:\",sum(episode_needed)/100)"
   ]
  },
  {
   "cell_type": "markdown",
   "id": "d1def3b8",
   "metadata": {},
   "source": [
    "5. Create a graph of frequency of "
   ]
  },
  {
   "cell_type": "code",
   "execution_count": 20,
   "id": "257efb40",
   "metadata": {},
   "outputs": [
    {
     "data": {
      "image/png": "[encoded data removed]",
      "text/plain": [
       "<Figure size 432x288 with 1 Axes>"
      ]
     },
     "metadata": {
      "needs_background": "light"
     },
     "output_type": "display_data"
    }
   ],
   "source": [
    "#Draw a histogram of frequency of episode for successful for each train\n",
    "plt.hist(episode_needed,50, facecolor='r')\n",
    "plt.xlabel('Needed episode to reach 200 success timestep')\n",
    "plt.ylabel('Frequency')\n",
    "plt.title('Random search successful histogram')\n",
    "plt.show()"
   ]
  },
  {
   "cell_type": "markdown",
   "id": "289dd899",
   "metadata": {},
   "source": [
    "# b) Q-learning method to solve the cartpole problem"
   ]
  },
  {
   "cell_type": "code",
   "execution_count": 21,
   "id": "b30608da",
   "metadata": {},
   "outputs": [],
   "source": [
    "#Initialize the environment\n",
    "env = gym.make('CartPole-v1')"
   ]
  },
  {
   "cell_type": "markdown",
   "id": "dec32c0e",
   "metadata": {},
   "source": [
    "1. Divided state space into discrete bucket (to convert continuous observation into discrete observation => transform the problem to finite state to apply Q-learning)"
   ]
  },
  {
   "cell_type": "code",
   "execution_count": 22,
   "id": "ccd54e9f",
   "metadata": {},
   "outputs": [],
   "source": [
    "#Divide continuous state space into discrete bucket\n",
    "discrete_bin = (6,12)\n",
    "\n",
    "#Intake lower bound and upper bound\n",
    "boundlow = [env.observation_space.low[2],-math.radians(50)]\n",
    "boundup = [ env.observation_space.high[2],math.radians(50)]\n",
    "\n",
    "#Function that divide observation by it's angle and pole velocity into 6 and 12 bins respectively, makes the return to be tuple\n",
    "def divide_into_bucket( _ , __ , angle, pole_velocity ):\n",
    "    \n",
    "    #Using the KbinDiscretizer to divide observation by pole angle and pole velocity into 6 and 12 bins respectively\n",
    "    bin = KBinsDiscretizer(n_bins=discrete_bin, encode='ordinal', strategy='uniform')\n",
    "    bin.fit([boundlow, boundup ])\n",
    "    return tuple(map(int,bin.transform([[angle, pole_velocity]])[0]))"
   ]
  },
  {
   "cell_type": "markdown",
   "id": "7290e1b3",
   "metadata": {},
   "source": [
    "2. initialize 3D Q-table, create a policy to make a move and update Q-value function"
   ]
  },
  {
   "cell_type": "code",
   "execution_count": 23,
   "id": "d78d2ca5",
   "metadata": {},
   "outputs": [
    {
     "name": "stdout",
     "output_type": "stream",
     "text": [
      "[[[0. 0.]\n",
      "  [0. 0.]\n",
      "  [0. 0.]\n",
      "  [0. 0.]\n",
      "  [0. 0.]\n",
      "  [0. 0.]\n",
      "  [0. 0.]\n",
      "  [0. 0.]\n",
      "  [0. 0.]\n",
      "  [0. 0.]\n",
      "  [0. 0.]\n",
      "  [0. 0.]]\n",
      "\n",
      " [[0. 0.]\n",
      "  [0. 0.]\n",
      "  [0. 0.]\n",
      "  [0. 0.]\n",
      "  [0. 0.]\n",
      "  [0. 0.]\n",
      "  [0. 0.]\n",
      "  [0. 0.]\n",
      "  [0. 0.]\n",
      "  [0. 0.]\n",
      "  [0. 0.]\n",
      "  [0. 0.]]\n",
      "\n",
      " [[0. 0.]\n",
      "  [0. 0.]\n",
      "  [0. 0.]\n",
      "  [0. 0.]\n",
      "  [0. 0.]\n",
      "  [0. 0.]\n",
      "  [0. 0.]\n",
      "  [0. 0.]\n",
      "  [0. 0.]\n",
      "  [0. 0.]\n",
      "  [0. 0.]\n",
      "  [0. 0.]]\n",
      "\n",
      " [[0. 0.]\n",
      "  [0. 0.]\n",
      "  [0. 0.]\n",
      "  [0. 0.]\n",
      "  [0. 0.]\n",
      "  [0. 0.]\n",
      "  [0. 0.]\n",
      "  [0. 0.]\n",
      "  [0. 0.]\n",
      "  [0. 0.]\n",
      "  [0. 0.]\n",
      "  [0. 0.]]\n",
      "\n",
      " [[0. 0.]\n",
      "  [0. 0.]\n",
      "  [0. 0.]\n",
      "  [0. 0.]\n",
      "  [0. 0.]\n",
      "  [0. 0.]\n",
      "  [0. 0.]\n",
      "  [0. 0.]\n",
      "  [0. 0.]\n",
      "  [0. 0.]\n",
      "  [0. 0.]\n",
      "  [0. 0.]]\n",
      "\n",
      " [[0. 0.]\n",
      "  [0. 0.]\n",
      "  [0. 0.]\n",
      "  [0. 0.]\n",
      "  [0. 0.]\n",
      "  [0. 0.]\n",
      "  [0. 0.]\n",
      "  [0. 0.]\n",
      "  [0. 0.]\n",
      "  [0. 0.]\n",
      "  [0. 0.]\n",
      "  [0. 0.]]]\n"
     ]
    }
   ],
   "source": [
    "#Store every combination of (state + action)'s long term reward\n",
    "Qtable = np.zeros(discrete_bin + (env.action_space.n,))\n",
    "Qtable.shape\n",
    "\n",
    "#Create a policy that taking action has a highest Q-value return for each state (using Q-table) using argmax\n",
    "def policy(state):\n",
    "    return np.argmax(Qtable[state])\n",
    "\n",
    "#Create a function that update new Qvalue for an action in the state space using the given formula (and makes the return to be float)\n",
    "#Q(state,action) ← (1−α)Q(state,action) + α(reward+γmax(a)Q(next state,all actions))\n",
    "def Qval_new(rw,newstate):\n",
    "    #Input the next max Q-value from state space\n",
    "    next_max = np.max(Qtable[newstate])\n",
    "    \n",
    "    #update the new Qvalue for the cell in table\n",
    "    new_Q_value = rw + next_max\n",
    "    \n",
    "    #Return\n",
    "    return float(new_Q_value)\n",
    "print(Qtable)"
   ]
  },
  {
   "cell_type": "markdown",
   "id": "dc9a4e82",
   "metadata": {},
   "source": [
    "3. Decay functions to tune the learning rate of the action"
   ]
  },
  {
   "cell_type": "code",
   "execution_count": 24,
   "id": "803e7daa",
   "metadata": {},
   "outputs": [],
   "source": [
    "#Decay the learning rate function to weight old Q-value with the new one\n",
    "#It'll make the it learn faster at the begin and slower at the end\n",
    "def alpha(n):\n",
    "    return float(max(0.01, min(1.0, 1.0 - math.log10((n + 1) / 25))))\n",
    "\n",
    "#Exploration rate function for better exploring the state space by creating a proportion of random action\n",
    "def exploration_rate(n):\n",
    "    \"\"\"Decaying exploration rate\"\"\"\n",
    "    rate = float(max(0.1, min(1, 1.0 - math.log10((n  + 1) / 25))))\n",
    "    return rate"
   ]
  },
  {
   "cell_type": "markdown",
   "id": "113ed871",
   "metadata": {},
   "source": [
    "4. Training step and render to see the result (if necessary)"
   ]
  },
  {
   "cell_type": "code",
   "execution_count": 25,
   "id": "137739df",
   "metadata": {},
   "outputs": [
    {
     "name": "stdout",
     "output_type": "stream",
     "text": [
      "[23, 15, 14, 26, 19, 14, 23, 37, 45, 16, 18, 12, 13, 17, 9, 15, 30, 10, 20, 56, 11, 21, 13, 10, 10, 19, 11, 18, 29, 19, 27, 15, 22, 15, 19, 30, 13, 34, 29, 11, 11, 21, 14, 28, 31, 20, 10, 21, 13, 17, 18, 16, 18, 25, 38, 41, 24, 13, 11, 29, 21, 18, 14, 20, 16, 35, 57, 12, 23, 16, 29, 59, 17, 15, 10, 19, 27, 11, 34, 34, 25, 61, 76, 38, 41, 22, 15, 41, 27, 17, 12, 23, 124, 111, 14, 67, 21, 25, 27, 54, 23, 65, 28, 55, 22, 38, 47, 60, 142, 35, 88, 20, 15, 13, 71, 38, 152, 98, 27, 46, 38, 27, 29, 30, 28, 74, 19, 23, 69, 51, 38, 35, 27, 15, 26, 21, 28, 62, 36, 15, 76, 136, 83, 18, 19, 13, 51, 84, 18, 162, 35, 19, 44, 35, 57, 78, 31, 274, 62, 265, 77, 142, 213, 34, 51, 55, 65, 20, 68, 500, 500, 500, 500, 252, 500, 500, 500, 500, 500, 500, 496, 373, 500, 500, 500, 500, 500, 500, 362, 500, 500, 500, 500, 500, 500, 500, 500, 500, 500, 500, 500, 500, 500, 500, 500, 500, 500, 500, 500, 500, 500, 500, 500, 500, 500, 500, 500, 500, 500, 500, 500, 500, 500, 500, 500, 500, 500, 500, 500, 500, 500, 500, 500, 500, 500, 500, 500, 500, 500, 500, 353, 500, 500, 500, 500, 500, 500, 500, 500, 500, 500, 500, 500, 500, 500, 500, 500, 500, 500, 500, 500, 500, 500, 500, 500, 500, 500, 500, 500, 500, 500, 500, 500, 500, 500, 500, 500, 500, 500, 500, 500, 500, 500, 500, 500, 500, 500, 500, 500, 500, 500, 500, 500, 500, 500, 500, 500, 500, 500, 500, 479, 500, 500, 500, 500, 500, 500, 500, 500, 500, 500, 500, 500, 500, 500, 417, 500, 500, 500, 500, 500, 324, 500, 500, 500, 500, 500, 500, 500, 500, 500, 500, 468, 500, 500, 500, 500, 254, 500, 500, 500, 500, 500, 500, 500, 500, 500, 500, 500, 500, 500, 500, 500, 500, 436, 500, 500, 500, 500, 500, 500, 500, 500, 500, 500, 411, 500, 500, 500, 500, 500, 500, 500, 500, 500, 500, 500, 500, 500, 500, 500, 500, 500, 500, 500, 500, 500, 500, 500, 500, 500, 403, 500, 500, 500, 500, 500, 500, 500, 500, 500, 500, 351, 500, 500, 489, 500, 500, 500, 500, 337, 500, 500, 500, 500, 500, 500, 500, 500, 500, 500, 459, 500, 500, 440, 500, 500, 500, 500, 500, 500, 500, 500, 500, 500, 500, 500, 326, 500, 434, 500, 495, 500, 500, 500, 500, 440, 477, 500, 500, 500, 500, 500, 500, 500, 500, 500, 500, 500, 500, 500, 500, 500, 500, 500, 500, 500, 500, 453, 500, 500, 500, 500, 500, 500, 500, 500, 500, 500, 500, 500, 500, 500, 500, 500, 500, 500, 500, 500, 500, 500, 500, 500, 500, 463, 500, 500, 500, 500, 500, 500, 500, 500, 500, 500, 500, 500, 500, 500, 500, 500, 500, 386, 500, 500, 500, 500, 500, 500, 500, 483, 500, 500, 500, 500, 500, 500, 500, 500, 500, 500, 500, 500, 500, 500, 500, 500, 500, 500, 500, 500, 398, 500, 500, 500, 500, 500, 500, 500, 500, 500, 500, 500, 500, 500, 496, 500, 500, 500, 500, 500, 500, 500, 500, 500, 500, 500, 500, 464, 500, 500, 500, 500, 476, 500, 447, 500, 500, 500, 500, 500, 500, 500, 500, 500, 500, 500, 500, 500, 500, 313, 500, 500, 500, 500, 500, 500, 500, 500, 453, 500, 500, 500, 500, 500, 500, 500, 500, 500, 500, 500, 500, 500, 500, 500, 500, 500, 500, 500, 500, 341, 500, 500, 500, 500, 500, 500, 500, 404, 500, 500, 500, 500, 500, 500, 500, 500, 500, 500, 500, 500, 500, 500, 500, 500, 500, 500, 500, 500, 500, 500, 500, 500, 500, 500, 500, 500, 500, 500, 500, 500, 500, 500, 500, 500, 500, 500, 500, 500, 500, 500, 500, 500, 500, 500, 500, 500, 371, 353, 500, 500, 500, 500, 500, 500, 500, 500, 500, 500, 500, 500, 500, 500, 500, 500, 500, 500, 500, 500, 500, 500, 500, 500, 500, 500, 500, 500, 500, 500, 500, 500, 324, 500, 500, 500, 500, 500, 500, 500, 500, 500, 500, 500, 500, 500, 500, 500, 500, 500, 490, 500, 500, 53, 361, 500, 500, 500, 500, 500, 500, 500, 500, 500, 14, 500, 500, 500, 500, 500, 500, 500, 500, 500, 500, 500, 500, 500, 500, 500, 500, 500, 478, 500, 500, 500, 500, 500, 500, 500, 500, 500, 475, 500, 500, 472, 500, 500, 500, 500, 500, 500, 500, 500, 500, 500, 500, 500, 500, 500, 500, 500, 500, 500, 500, 500, 500, 500, 500, 500, 500, 500, 500, 253, 500, 500, 500, 448, 500, 500, 500, 500, 500, 500, 500, 500, 500, 500, 500, 500, 500, 500, 500, 500, 460, 490, 500, 427, 500, 500, 500, 500, 500, 500, 500, 500, 500, 500, 500, 500, 500, 500, 500, 500, 500, 500, 500, 500, 500, 500, 500, 500, 500, 500, 500, 500, 500, 500, 500, 500, 500, 500, 444, 500, 500, 500, 500, 500, 500, 500, 500, 500, 500, 500, 306, 500, 500, 500, 500, 500, 500, 500, 500, 500, 500, 500, 500, 500, 500, 500, 500, 500, 500, 500, 500, 500, 500, 500, 500, 500, 500, 500, 500, 500, 500, 500, 500, 500, 500, 500, 500, 500, 421, 474, 500, 500, 500, 500, 487, 500, 500, 500, 500, 500, 500, 500, 500, 500, 493, 500, 454, 500, 500, 500, 500, 500, 500, 500, 500, 500, 500, 500, 318, 500, 500, 500, 500, 500, 500, 500, 500, 500, 500, 500, 500, 500, 500, 500, 500, 500, 500, 500, 468, 500, 500, 500, 500, 200, 297, 500, 500, 500, 500, 500, 500, 500, 500, 500, 500, 500, 488, 500, 500, 500, 500, 500, 500, 500, 500, 500, 500, 500, 500, 500, 475, 500, 500, 500, 500, 500, 500, 500, 500, 500, 500, 433, 500, 483, 500, 500, 500, 351, 488, 500, 500, 500, 500, 500, 500, 500, 500, 500, 500, 500, 500, 500, 500, 500, 500, 481, 500, 500, 500, 500, 469, 500, 500, 500, 500, 500, 500, 500, 500, 500, 500, 334, 500, 500, 500, 500, 500, 500, 500, 500, 500, 500, 500, 500, 369, 500, 421, 500, 500, 500, 500, 500, 500, 500, 500, 500, 500, 500, 500, 500, 361, 500, 500, 500, 500, 500, 500, 500, 500, 500, 500, 500, 500, 500, 500, 500, 500, 405, 500, 500, 500, 500, 500, 500, 500, 500, 500, 500, 500, 500, 500, 500, 340, 456, 500, 500, 500, 500, 500, 500, 500, 388, 500, 500, 460, 500, 500, 500, 500, 500, 500, 500, 500, 500, 500, 500, 291, 500, 500, 494, 500, 500, 500, 500, 500, 500, 500, 500, 500, 500, 500, 500, 500, 500, 500, 500, 500, 500, 500, 500, 468, 500, 500, 500, 500, 500, 500, 500, 500, 500, 500, 500, 472, 441, 243, 500, 500, 500, 500, 500, 381, 500, 500, 500, 500, 500, 500, 500, 500, 500, 500, 412, 500, 500, 500, 500, 500, 500, 500, 500, 500, 500, 500, 397, 500, 500, 500, 500, 500, 500, 500, 500, 500, 500, 500, 500, 500, 500, 500, 500, 500, 456, 500, 500, 500, 500, 500, 463, 500, 500, 500, 395, 500, 500, 500, 500, 500, 500, 479, 500, 500, 500, 500, 120, 500, 500, 500, 500, 500, 500, 500, 500, 500, 500, 500, 500, 500, 500, 500, 500, 500, 500, 500, 500, 231, 500, 500, 500, 500, 500, 500, 500, 500, 500, 500, 500, 405, 500, 500, 500, 500, 500, 356, 500, 500, 500, 500, 500, 500, 312, 500, 500, 500, 500, 500, 500, 500, 500, 500, 500, 500, 500, 500, 488, 500, 500, 500, 500, 472, 500, 500, 500, 500, 500, 500, 500, 500, 500, 500, 500, 500, 500, 500, 408, 500, 500, 500, 500, 500, 500, 500, 500, 500, 500, 500, 500, 500, 500, 500, 500, 500, 500, 500, 500, 500, 500, 461, 500, 500, 500, 500, 500, 500, 500, 500, 500, 500, 500, 500, 500, 500, 500, 500, 500, 500, 500, 500, 447, 500, 500, 434, 500, 500, 500, 500, 500, 500, 500, 500, 500, 500, 500, 500, 500, 500, 500, 500, 500, 500, 414, 500, 500, 500, 500, 457, 207, 500, 500, 126, 500, 500, 500, 500, 500, 500, 500, 500, 500, 500, 500, 500, 500, 500, 500, 500, 500, 500, 500, 482, 500, 500, 278, 500, 500, 500, 500, 500, 500, 500, 500, 500, 500, 500, 500, 500, 500, 500, 500, 500, 500, 500, 500, 500, 500, 500, 500, 500, 500, 500, 500, 500, 500, 500, 500, 500, 500, 500, 500, 500, 500, 500, 500, 500, 500, 438, 500, 500, 500, 500, 500, 500, 500, 500, 500, 500, 500, 500, 500, 500, 500, 500, 500, 500, 500, 500, 500, 500, 500, 500, 500, 500, 500, 500, 500, 500, 500, 500, 500, 500, 500, 500, 500, 500, 500, 500, 500, 500, 500, 500, 500, 500, 500, 500, 291, 500, 500, 500, 500, 500, 500, 500, 487, 500, 500, 500, 500, 500, 327, 500, 500, 500, 500, 500, 479, 500, 500, 500, 500, 451, 500, 500, 500, 500, 500, 500, 500, 500, 500, 500, 500, 500, 500, 500, 500, 500, 21, 433, 500, 500, 465, 489, 500, 500, 442, 500, 500, 453, 500, 500, 500, 500, 500, 500, 500, 500, 500, 500, 500, 500, 409, 500, 500, 500, 500, 500, 500, 500, 500, 500, 500, 500, 500, 500, 500, 500, 500, 500, 500, 500, 500, 239, 500, 500, 500, 500, 500, 500, 500, 500, 486, 500, 500, 459, 500, 500, 500, 500, 500, 500, 500, 500, 500, 500, 500, 430, 500, 500, 500, 500, 500, 500, 500, 500, 431, 500, 500, 500, 387, 500, 500, 500, 500, 500, 500, 500, 500, 500, 500, 500, 500, 500, 500, 500, 499, 401, 500, 500, 500, 500, 500, 500, 500, 500, 500, 500, 500, 500, 500, 500, 500, 500, 500, 500, 500, 500, 413, 500, 500, 500, 500, 500, 500, 500, 500, 500, 323, 500, 500, 500, 500, 500, 500, 500, 500, 500, 500, 500, 500, 500, 500, 500, 500, 500, 500, 500, 500, 500, 484, 500, 500, 500, 500, 500, 500, 500, 500, 500, 500, 500, 500, 500, 500, 500, 500, 500, 500, 500, 500, 500, 500, 500, 500, 500, 500, 500, 500, 500, 500, 500, 500, 500, 500, 500, 500, 500, 500, 500, 469, 500, 500, 500, 500, 500, 500, 500, 500, 500, 500, 500, 500, 416, 500, 500, 500, 500, 500, 500, 500, 285, 500, 500, 500, 500, 500, 500, 500, 500, 500, 500, 500, 500, 500, 500, 500, 500, 500, 500, 500, 500, 500, 467, 500, 355, 500, 500, 500, 489, 500, 500, 454, 500, 500, 500, 500, 500, 500, 500, 500, 500, 500, 500, 500, 500, 310, 500, 500, 500, 500, 500, 500, 500, 500, 500, 500, 500, 500, 500, 500, 500, 500, 500, 500, 500, 484, 500, 500, 500, 500, 500, 500, 500, 500, 500, 500, 500, 500, 500, 500, 500, 433, 500, 500, 500, 500, 500, 500, 500, 500, 500, 500, 500, 500, 500, 500, 500, 500, 500, 500, 500, 500, 500, 500, 500, 500, 500, 482, 500, 409, 500, 500, 500, 500, 500, 500, 500, 500, 500, 456, 500, 500, 500, 500, 500, 500, 500, 500, 500, 500, 500, 500, 500, 500, 500, 500, 500, 500, 500, 500, 500, 373, 500, 500, 500, 500, 500, 500, 500, 500, 500, 500, 500, 500, 500, 500, 500, 500, 500, 500, 500, 500, 500, 500, 500, 500, 500, 500, 500, 341, 500, 500, 491, 500, 500, 500, 500, 500, 500, 500, 500, 500, 500, 500, 374, 500, 205, 500, 500, 383, 500, 500, 500, 500, 500, 500, 500, 500, 500, 500, 500, 500, 219, 500, 440, 500, 489, 500, 500, 500, 500, 500, 500, 500, 500, 471, 500, 479, 500, 500, 471, 500, 500, 500, 500, 500, 500, 500, 500, 481, 500, 500, 500, 500, 500, 500, 500, 500, 500, 500, 500, 500, 500, 500, 500, 500, 500, 500, 500, 500, 500, 500, 500, 500, 500, 349, 319, 500, 500, 500, 500, 500, 500, 500, 500, 500, 500, 500, 500, 500, 445, 500, 500, 500, 500, 433, 500, 500, 500, 500, 500, 500, 500, 500, 500, 500, 500, 500, 500, 500, 500, 500, 500, 500, 500, 420, 500, 500, 419, 500, 484, 500, 500, 500, 500, 500, 500, 500, 500, 500, 500, 500, 500, 500, 500, 500, 500, 500, 465, 500, 500, 500, 500, 500, 500, 500, 500, 500, 500, 500, 500, 500, 500, 500, 485, 500, 500, 500, 500, 500, 364, 500, 500, 500, 285, 500, 500, 500, 500, 500, 500, 500, 500, 500, 500, 457, 500, 500, 500, 500, 500, 500, 500, 500, 500, 500, 500, 500, 500, 500, 500, 500, 500, 500, 386, 500, 375, 500, 500, 500, 500, 500, 500, 490, 500, 500, 500, 500, 500, 500, 500, 500, 500, 500, 500, 500, 500, 500, 500, 500, 500, 500, 500, 500, 428, 410, 500, 500, 500, 500, 500, 500, 500, 500, 500, 500, 500, 500, 500, 409, 500, 500, 500, 500, 500, 500, 500, 500, 500, 500, 229, 500, 500, 500, 500, 500, 500, 486, 500, 500, 500, 500, 500, 500, 500, 475, 500, 500, 500, 500, 500, 500, 500, 500, 500, 500, 336, 500, 500, 500, 500, 500, 500, 500, 500, 500, 500, 500, 500, 500, 500, 500, 500, 351, 500, 500, 500, 500, 500, 500, 500, 500, 500, 500, 500, 500, 500, 500, 500, 500, 500, 500, 500, 500, 500, 500, 500, 500, 500, 500, 500, 500, 500, 500, 500, 500, 500, 500, 500, 500, 500, 500, 500, 500, 500, 500, 500, 500, 500, 500, 500, 500, 500, 500, 500, 500, 500, 500, 500, 500, 500, 500, 500, 399, 500, 500, 500, 500, 500, 500, 500, 500, 500, 500, 500, 500, 500, 500, 500, 500, 500, 500, 500, 500, 500, 500, 500, 500, 500, 500, 500, 500, 500, 500, 500, 500, 500, 500, 500, 500, 500, 500, 500, 500, 249, 449, 500, 500, 500, 500, 406, 500, 500, 500, 500, 500, 500, 500, 500, 500, 500, 500, 500, 500, 500, 500, 500, 500, 384, 500, 500, 210, 500, 500, 500, 500, 500, 500, 500, 500, 500, 500, 500, 500, 500, 500, 500, 500, 500, 500, 500, 500, 210, 500, 500, 500, 345, 500, 500, 500, 500, 500, 500, 465, 452, 500, 500, 500, 500, 500, 500, 500, 500, 500, 500, 500, 500, 294, 500, 500, 481, 500, 500, 445, 500, 500, 500, 500, 500, 500, 500, 500, 500, 500, 425, 500, 500, 500, 500, 500, 500, 500, 500, 500, 500, 500, 500, 500, 500, 500, 500, 500, 500, 500, 500, 500, 500, 500, 500, 500, 500, 500, 500, 500, 500, 500, 441, 500, 500, 500, 500, 500, 500, 179, 500, 500, 457, 500, 500, 500, 500, 500, 500, 500, 500, 500, 500, 500, 500, 500, 500, 500, 500, 500, 500, 500, 500, 500, 500, 500, 500, 500, 500, 500, 500, 500, 500, 500, 500, 500, 500, 500, 491, 500, 500, 500, 500, 500, 500, 500, 500, 500, 500, 214, 500, 500, 500, 500, 500, 500, 274, 500, 500, 500, 500, 434, 500, 500, 500, 500, 500, 500, 500, 500, 500, 500, 500, 500, 500, 500, 500, 500, 500, 500, 500, 500, 500, 500, 500, 500, 500, 500, 500, 500, 500, 500, 500, 500, 500, 500, 500, 500, 500, 500, 500, 500, 500, 500, 500, 500, 500, 500, 500, 500, 500, 500, 500, 500, 500, 500, 500, 500, 500, 500, 500, 207, 500, 500, 500, 500, 500, 500, 391, 500, 500, 500, 500, 500, 500, 500, 500, 498, 500, 500, 500, 500, 500, 500, 500, 486, 500, 500, 500, 500, 440, 500, 500, 500, 500, 500, 500, 500, 500, 500, 500, 500, 500, 167, 500, 500, 500, 500, 500, 500, 500, 500, 500, 500, 500, 500, 500, 500, 500, 500, 500, 500, 500, 500, 500, 185, 500, 344, 500, 500, 500, 500, 500, 500, 500, 500, 500, 500, 500, 500, 500, 500, 500, 500, 500, 500, 500, 418, 500, 500, 500, 500, 500, 500, 500, 500, 500, 477, 500, 500, 500, 500, 500, 500, 500, 500, 500, 500, 500, 500, 500, 500, 500, 500, 500, 500, 500, 500, 500, 500, 500, 500, 500, 500, 500, 500, 500, 500, 500, 500, 500, 500, 500, 500, 500, 500, 500, 500, 500, 500, 500, 500, 500, 500, 151, 500, 500, 500, 500, 500, 500, 500, 500, 500, 500, 500, 500, 500, 500, 500, 500, 500, 500, 500, 500, 500, 500, 500, 500, 500, 500, 500, 500, 500, 500, 500, 500, 500, 500, 500, 500, 500, 500, 500, 500, 500, 500, 500, 500, 500, 500, 500, 500, 500, 500, 500, 500, 500, 500, 500, 500, 500, 500, 500, 500, 500, 500, 500, 500, 500, 448, 500, 500, 500, 500, 500, 500, 500, 500, 500, 500, 500, 500, 500, 500, 500, 500, 500, 500, 500, 500, 498, 500, 500, 500, 500, 424, 500, 500, 500, 500, 500, 500, 500, 500, 192, 500, 500, 500, 500, 500, 500, 500, 500, 500, 500, 500, 500, 500, 500, 500, 500, 500, 500, 500, 500, 500, 500, 500, 500, 500, 500, 500, 500, 500, 500, 500, 500, 500, 500, 500, 500, 500, 500, 500, 500, 500, 500, 500, 451, 500, 500, 500, 500, 500, 459, 500, 500, 500, 500, 500, 500, 500, 500, 500, 500, 500, 500, 500, 500, 500, 500, 500, 500, 500, 500, 500, 500, 500, 500, 500, 500, 500, 500, 500, 500, 435, 500, 500, 500, 500, 268, 466, 500, 359, 500, 500, 142, 500, 500, 500, 500, 500, 500, 500, 500, 500, 500, 500, 484, 500, 432, 500, 500, 500, 500, 500, 500, 500, 500, 500, 500, 500, 500, 500, 500, 500, 500, 500, 500, 500, 500, 500, 500, 500, 500, 500, 500, 500, 500, 254, 500, 500, 500, 500, 500, 323, 500, 500, 500, 500, 500, 500, 500, 500, 500, 500, 500, 500, 500, 500, 500, 500, 500, 500, 500, 500, 500, 500, 500, 362, 500, 278, 500, 500, 500, 298, 500, 500, 500, 500, 500, 500, 500, 328, 500, 500, 495, 500, 500, 500, 500, 500, 500, 500, 442, 500, 500, 500, 500, 500, 500, 500, 500, 212, 500, 500, 500, 500, 500, 500, 500, 500, 500, 500, 500, 500, 500, 500, 500, 500, 500, 500, 500, 500, 500, 388, 488, 500, 500, 500, 500, 500, 500, 500, 500, 500, 500, 500, 500, 500, 500, 500, 500, 500, 500, 500, 500, 500, 500, 500, 500, 500, 500, 500, 500, 500, 489, 500, 500, 500, 485, 500, 500, 500, 500, 500, 358, 500, 500, 438, 500, 500, 500, 500, 489, 500, 500, 500, 500, 500, 313, 500, 500, 500, 500, 500, 500, 500, 500, 500, 500, 500, 500, 500, 500, 500, 500, 500, 500, 500, 396, 500, 500, 500, 500, 500, 500, 458, 488, 500, 500, 500, 500, 500, 500, 500, 500, 500, 500, 500, 500, 500, 500, 500, 500, 500, 500, 500, 500, 500, 500, 500, 500, 500, 500, 500, 500, 500, 500, 500, 500, 500, 500, 500, 500, 500, 500, 500, 500, 500, 500, 500, 500, 500, 500, 500, 500, 500, 500, 500, 500, 500, 500, 500, 500, 399, 500, 500, 500, 456, 500, 500, 500, 500, 500, 412, 500, 500, 500, 500, 500, 500, 500, 500, 500, 500, 500, 469, 500, 500, 500, 500, 500, 276, 500, 500, 500, 500, 500, 500, 500, 500, 500, 500, 500, 420, 500, 500, 500, 500, 500, 500, 500, 500, 500, 500, 500, 500, 500, 500, 500, 500, 500, 500, 500, 500, 500, 500, 500, 500, 500, 500, 463, 500, 500, 500, 500, 481, 500, 500, 500, 500, 500, 500, 500, 500, 500, 500, 417, 500, 500, 500, 500, 500, 500, 500, 500, 500, 500, 500, 500, 500, 298, 500, 479, 500, 500, 331, 500, 500, 500, 500, 500, 500, 500, 500, 500, 500, 500, 467, 500, 500, 500, 500, 500, 500, 500, 500, 500, 500, 500, 500, 500, 500, 500, 500, 500, 500, 500, 28, 500, 500, 500, 500, 500, 240, 500, 500, 500, 500, 500, 500, 500, 500, 500, 500, 500, 500, 500, 500, 500, 500, 500, 500, 500, 500, 500, 500, 500, 500, 500, 500, 500, 500, 500, 500, 500, 500, 500, 500, 500, 500, 500, 500, 500, 500, 500, 500, 500, 500, 500, 500, 500, 500, 500, 500, 500, 500, 469, 500, 500, 500, 500, 500, 500, 500, 500, 500, 500, 500, 500, 500, 500, 500, 500, 500, 500, 500, 500, 500, 500, 500, 500, 500, 500, 500, 500, 500, 500, 500, 500, 500, 500, 500, 500, 500, 500, 419, 500, 500, 500, 500, 500, 500, 500, 500, 500, 426, 500, 500, 500, 500, 500, 500, 500, 500, 500, 500, 500, 500, 500, 500, 500, 500, 500, 500, 500, 500, 500, 500, 500, 500, 500, 500, 500, 500, 500, 500, 500, 500, 500, 500, 500, 500, 500, 500, 500, 500, 500, 500, 500, 500, 500, 500, 500, 500, 500, 500, 500, 500, 500, 500, 498, 500, 500, 500, 500, 500, 499, 500, 500, 331, 500, 500, 500, 500, 500, 500, 500, 309, 500, 500, 500, 500, 500, 500, 500, 500, 500, 500, 500, 500, 500, 304, 500, 500, 500, 500, 500, 500, 500, 500, 500, 500, 500, 500, 500, 500, 500, 500, 500, 500, 500, 491, 500, 500, 500, 500, 500, 500, 500, 500, 500, 500, 500, 500, 407, 425, 500, 500, 500, 500, 500, 500, 500, 500, 500, 500, 500, 500, 500, 500, 500, 500, 500, 500, 500, 500, 500, 500, 500, 500, 500, 500, 500, 500, 500, 500, 500, 500, 500, 500, 500, 500, 500, 500, 500, 500, 500, 500, 500, 500, 500, 500, 500, 500, 500, 500, 500, 500, 500, 500, 500, 500, 500, 500, 500, 500, 500, 500, 500, 500, 500, 500, 500, 500, 485, 500, 500, 500, 500, 500, 500, 500, 500, 500, 500, 500, 500, 500, 500, 500, 500, 500, 500, 500, 500, 500, 500, 500, 500, 500, 500, 500, 488, 500, 359, 500, 500, 500, 500, 500, 500, 500, 500, 481, 500, 500, 500, 500, 424, 500, 500, 500, 500, 500, 500, 500, 500, 500, 500, 500, 500, 500, 500, 500, 500, 471, 500, 500, 500, 500, 500, 500, 500, 500, 500, 500, 500, 500, 500, 500, 500, 500, 500, 454, 500, 500, 500, 500, 500, 500, 500, 500, 500, 500, 500, 500, 500, 500, 500, 500, 500, 500, 500, 500, 500, 500, 500, 500, 500, 500, 500, 296, 500, 500, 500, 500, 500, 500, 308, 500, 500, 500, 500, 500, 500, 500, 431, 500, 467, 500, 500, 500, 500, 500, 500, 500, 500, 500, 500, 500, 500, 500, 463, 500, 500, 500, 500, 363, 500, 500, 500, 500, 500, 500, 500, 500, 500, 494, 500, 500, 500, 500, 500, 500, 500, 500, 500, 500, 500, 500, 500, 500, 340, 500, 500, 388, 500, 500, 500, 500, 500, 500, 500, 500, 500, 500, 500, 500, 500, 500, 500, 500, 500, 500, 500, 500, 500, 500, 500, 500, 500, 500, 500, 500, 500, 500, 500, 500, 500, 500, 500, 500, 500, 500, 500, 423, 500, 500, 500, 500, 500, 500, 232, 500, 500, 500, 487, 500, 450, 500, 500, 500, 301, 500, 500, 500, 500, 500, 500, 500, 413, 500, 500, 500, 500, 500, 500, 500, 500, 500, 500, 500, 500, 500, 500, 500, 500, 500, 341, 500, 500, 500, 500, 500, 500, 500, 500, 366, 500, 500, 500, 500, 500, 500, 500, 500, 500, 500, 500, 500, 500, 500, 500, 500, 500, 500, 500, 500, 500, 500, 429, 500, 500, 500, 500, 500, 500, 500, 304, 500, 500, 500, 500, 312, 500, 495, 500, 500, 500, 500, 500, 500, 500, 500, 500, 500, 500, 500, 500, 499, 500, 500, 500, 500, 500, 500, 500, 500, 500, 500, 500, 500, 500, 500, 500, 500, 500, 500, 500, 500, 500, 500, 500, 500, 500, 500, 500, 500, 500, 500, 500, 362, 500, 64, 500, 500, 500, 500, 500, 500, 500, 500, 500, 500, 500, 500, 500, 500, 359, 500, 500, 500, 500, 500, 500, 500, 500, 500, 500, 500, 500, 248]\n",
      "Done training\n"
     ]
    }
   ],
   "source": [
    "#Running 4000 trainings\n",
    "array_timestep = []\n",
    "for i in range(4000):\n",
    "    \n",
    "    # Separate continuous state to discrete value\n",
    "    state = divide_into_bucket(*env.reset())\n",
    "    done = False\n",
    "    timestepmade = 0\n",
    "    while (done!=True):    \n",
    "        #Action\n",
    "        action = policy(state)\n",
    "        \n",
    "        #Using exploration rate (mentioned above) to explore the state space by bring in various random combination\n",
    "        if np.random.random() < exploration_rate(i) : \n",
    "            action = env.action_space.sample()\n",
    "            \n",
    "        #Take output from action\n",
    "        obs, rw, done, _ = env.step(action)\n",
    "        newstate = divide_into_bucket(*obs)\n",
    "        \n",
    "        #Calculate learning rate\n",
    "        alphaa = alpha(i)\n",
    "        \n",
    "        #Update new Qvalue for an action in the state space using the given formula using the mentioned learning rate\n",
    "        next_max = Qval_new(rw,newstate)\n",
    "        oldvalue = Qtable[state][action]\n",
    "        Qtable[state][action] = (1-alphaa)*oldvalue + alphaa*next_max\n",
    "        state = newstate\n",
    "        timestepmade+=1\n",
    "        #env.render()\n",
    "    array_timestep.append(timestepmade)\n",
    "print(array_timestep)\n",
    "print(\"Done training\")"
   ]
  },
  {
   "cell_type": "markdown",
   "id": "767499c1",
   "metadata": {},
   "source": [
    "5. Evaluate the Q-table in solving 100 episode of problem"
   ]
  },
  {
   "cell_type": "code",
   "execution_count": 26,
   "id": "69959e92",
   "metadata": {},
   "outputs": [
    {
     "name": "stdout",
     "output_type": "stream",
     "text": [
      "[500, 500, 500, 500, 500, 500, 500, 500, 500, 500, 500, 500, 500, 500, 500, 500, 500, 500, 500, 500, 500, 500, 500, 500, 500, 500, 500, 500, 500, 500, 500, 500, 500, 500, 500, 500, 500, 500, 500, 500, 500, 500, 500, 500, 500, 500, 500, 500, 500, 500, 500, 500, 500, 500, 500, 500, 500, 500, 500, 500, 500, 500, 500, 500, 500, 500, 500, 500, 500, 500, 500, 500, 500, 500, 500, 500, 500, 500, 500, 500, 500, 500, 500, 500, 500, 500, 500, 500, 500, 500, 500, 500, 500, 500, 500, 500, 500, 500, 500, 500]\n",
      "Done testing\n"
     ]
    }
   ],
   "source": [
    "array_timestep_realrun = []\n",
    "#Solve 100 episode and evaluate the result\n",
    "for i in range(100):\n",
    "    # Separate continuous state to discrete value\n",
    "    state = divide_into_bucket(*env.reset())\n",
    "    done = False\n",
    "    timestepmade = 0\n",
    "    while (done!=True):    \n",
    "        #Action\n",
    "        action = policy(state)\n",
    "        timestepmade+=1\n",
    "        #Take output from action\n",
    "        obs, rw, done, _ = env.step(action)\n",
    "        state = divide_into_bucket(*obs)\n",
    "        #env.render()\n",
    "    array_timestep_realrun.append(timestepmade)\n",
    "    \n",
    "#Print the result, the result should be all 200 (the number of pole balance timestep that is considered as success)\n",
    "print(array_timestep_realrun)\n",
    "print(\"Done testing\")"
   ]
  },
  {
   "cell_type": "markdown",
   "id": "59b0a92e",
   "metadata": {},
   "source": [
    "5. Learning speed visualization"
   ]
  },
  {
   "cell_type": "code",
   "execution_count": 27,
   "id": "6d92c2d1",
   "metadata": {},
   "outputs": [
    {
     "data": {
      "text/plain": [
       "Text(0, 0.5, 'Successful timestep made (max 500)')"
      ]
     },
     "execution_count": 27,
     "metadata": {},
     "output_type": "execute_result"
    },
    {
     "data": {
      "image/png": "[encoded data removed]",
      "text/plain": [
       "<Figure size 720x480 with 1 Axes>"
      ]
     },
     "metadata": {
      "needs_background": "light"
     },
     "output_type": "display_data"
    }
   ],
   "source": [
    "from matplotlib.pyplot import figure\n",
    "\n",
    "#Create variable x to store 400 first training episodes number from 1 to 400 (the part we want to visualize over 4000 episodes each training)\n",
    "x = []\n",
    "for i in range (1,401):\n",
    "    x.append(i)\n",
    "    \n",
    "#y is the result of first 400 episodes of the training\n",
    "y = array_timestep[0:400]\n",
    "\n",
    "#Graph\n",
    "fig, ax = plt.subplots(figsize=(6, 4), dpi=120)\n",
    "ax.plot(x, y)\n",
    "\n",
    "#Name the elements\n",
    "ax.set_title('Q-learning cartpole training process', fontsize=15)\n",
    "ax.set_xlabel('Training episode', fontsize=10)\n",
    "ax.set_ylabel('Successful timestep made (max 500)', fontsize=10)"
   ]
  },
  {
   "cell_type": "code",
   "execution_count": null,
   "id": "ea8eb212",
   "metadata": {},
   "outputs": [],
   "source": []
  }
 ],
 "metadata": {
  "interpreter": {
   "hash": "7be2dd5c4580cc14fc4a792dcc9d111d1777ef97f7a9da44f06aa4e194b525db"
  },
  "kernelspec": {
   "display_name": "Python 3.10.4 64-bit",
   "language": "python",
   "name": "python3"
  },
  "language_info": {
   "codemirror_mode": {
    "name": "ipython",
    "version": 3
   },
   "file_extension": ".py",
   "mimetype": "text/x-python",
   "name": "python",
   "nbconvert_exporter": "python",
   "pygments_lexer": "ipython3",
   "version": "3.10.4"
  },
  "orig_nbformat": 4
 },
 "nbformat": 4,
 "nbformat_minor": 2
}
